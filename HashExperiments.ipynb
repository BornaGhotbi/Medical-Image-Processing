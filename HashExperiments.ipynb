{
 "cells": [
  {
   "cell_type": "code",
   "execution_count": 1,
   "metadata": {},
   "outputs": [],
   "source": [
    "import numpy as np\n",
    "from sklearn import preprocessing\n",
    "import heapq\n",
    "import operator\n",
    "from collections import defaultdict\n",
    "import time"
   ]
  },
  {
   "cell_type": "code",
   "execution_count": 45,
   "metadata": {},
   "outputs": [],
   "source": [
    "m = 2**10\n",
    "r = 0.4\n",
    "k = 20\n",
    "d = 32\n",
    "RANDOM_SEED = 42\n",
    "SAMPLE_NUMBER = 10**2\n",
    "QUERY_NUMBER = 100\n",
    "mu, sigma = 0, 1 # mean and standard deviation\n",
    "\n",
    "%run Dsearch.ipynb"
   ]
  },
  {
   "cell_type": "code",
   "execution_count": 46,
   "metadata": {},
   "outputs": [],
   "source": [
    "#generate 'SAMPLE_NUMBER' of random normalized vectors with length'd'\n",
    "def sample():\n",
    "    vectors = np.random.normal(mu, sigma, [SAMPLE_NUMBER, 32])\n",
    "    vectors = preprocessing.normalize(vectors, norm='l2')\n",
    "    \n",
    "    return vectors"
   ]
  },
  {
   "cell_type": "code",
   "execution_count": 54,
   "metadata": {},
   "outputs": [],
   "source": [
    "#generate hash for all vectors\n",
    "def hasher(vectors, m, r, hash_func, d = 32):\n",
    "    if(hash_func == GaussianHasher):\n",
    "        hash_func = GaussianHasher(d,m,r)\n",
    "    else:\n",
    "        hash_func = FourierHasher(d,m,r)\n",
    "        \n",
    "    hash_list = []\n",
    "    for vec in vectors:\n",
    "        hash_list.append(hash_func.encode(vec))\n",
    "        \n",
    "    return hash_list"
   ]
  },
  {
   "cell_type": "code",
   "execution_count": 55,
   "metadata": {},
   "outputs": [],
   "source": [
    "#pick a randrom vector as the query vector\n",
    "def randomize(random_state):\n",
    "    index = random_state.random_integers(low = 0, high = SAMPLE_NUMBER)\n",
    "    return index"
   ]
  },
  {
   "cell_type": "code",
   "execution_count": 56,
   "metadata": {},
   "outputs": [],
   "source": [
    "def intersection(lst1, lst2):\n",
    "    return set(lst1).intersection(lst2)\n",
    "\n",
    "#calculate number of hash collisions\n",
    "def hashSimilarity(lst1, lst2):\n",
    "    return len(intersection(lst1,lst2))\n",
    "\n",
    "#calculate the dot similarity \n",
    "def dotSimilarity(lst1, lst2):\n",
    "    return np.dot(lst1,lst2)"
   ]
  },
  {
   "cell_type": "code",
   "execution_count": 57,
   "metadata": {},
   "outputs": [],
   "source": [
    "def build_similarities(query_id, vectors):\n",
    "    ''' suppose vectors[i, :] is a single vector in your set;\n",
    "        that is, vectors is a numpy array, where each row is normalized\n",
    "        to l2-norm=1\n",
    "        \n",
    "        returns a numpy vector of similarities: the i'th entry is the similarity\n",
    "        between the i'the vector and the query_id vector\n",
    "    '''\n",
    "    return vectors.dot(vectors[query_id])"
   ]
  },
  {
   "cell_type": "code",
   "execution_count": 58,
   "metadata": {},
   "outputs": [],
   "source": [
    "def build_index(hash_list):\n",
    "    ''' returns a dictionary of lists, where the keys are\n",
    "        hash tokens, and the values of the lists are document ids\n",
    "    '''\n",
    "    index = defaultdict(list)\n",
    "    for k, hash_itemlist in enumerate(hash_list):\n",
    "        for h in hash_itemlist:\n",
    "            \n",
    "            index[h].append(k)\n",
    "            \n",
    "    return index"
   ]
  },
  {
   "cell_type": "code",
   "execution_count": 59,
   "metadata": {},
   "outputs": [],
   "source": [
    "def score_by_hash_collision(query_id, index, hash_list):\n",
    "    ''' return a dictionary:  keys are document id's, and\n",
    "        values are scores\n",
    "    '''\n",
    "    scores = defaultdict(int)\n",
    "    for h in hash_list[query_id]:\n",
    "        for doc_id in index[h]:\n",
    "            scores[doc_id] += 1\n",
    "    return scores"
   ]
  },
  {
   "cell_type": "code",
   "execution_count": 13,
   "metadata": {},
   "outputs": [],
   "source": [
    "'''calculate mean and median for a given hash function, m, and r. We compare the number of similar results \n",
    "from the hash and our ground truth(dot_similarity) for each of the QUERY_NUMBER queries. '''\n",
    "def calculate(m, r, hash_func):\n",
    "    \n",
    "    vectors = sample()\n",
    "    random_state = np.random.RandomState(RANDOM_SEED)   \n",
    "    duplicate_list = []\n",
    "    hash_list = hasher(vectors, m, r, hash_func)\n",
    "    index = build_index(hash_list)\n",
    "    \n",
    "    for i in range (QUERY_NUMBER):\n",
    "        random_query_id = randomize(random_state)\n",
    "        scores_truth = build_similarities(random_query_id, vectors)\n",
    "        topk_truth = heapq.nlargest(k, list(enumerate(scores_truth)), key = operator.itemgetter(1))\n",
    "        \n",
    "        scores_hash = score_by_hash_collision(random_query_id, index, hash_list)\n",
    "        topk_hash = heapq.nlargest(k, list(scores_hash.items()), key = operator.itemgetter(1))\n",
    "   \n",
    "        duplicate = len(intersection(topk_truth,topk_hash))\n",
    "        duplicate_list.append(duplicate)\n",
    "       \n",
    "    print(\"m:{} r:{}, hashFunc:{}\".format(m, r, hash_func))\n",
    "    mean = np.mean(duplicate_list)\n",
    "    median = np.median(duplicate_list)\n",
    "    \n",
    "    return mean, median\n",
    "        \n",
    "        "
   ]
  },
  {
   "cell_type": "code",
   "execution_count": null,
   "metadata": {},
   "outputs": [
    {
     "name": "stderr",
     "output_type": "stream",
     "text": [
      "/usr/local/lib/python3.6/site-packages/ipykernel_launcher.py:3: DeprecationWarning: This function is deprecated. Please call randint(0, 1000000 + 1) instead\n",
      "  This is separate from the ipykernel package so we can avoid doing imports until\n"
     ]
    },
    {
     "name": "stdout",
     "output_type": "stream",
     "text": [
      "m:8192 r:0.2, hashFunc:<class '__main__.GaussianHasher'>\n",
      "mean:0.0, median:0.0, time:779.9910469055176\n",
      "\n",
      "m:8192 r:0.2, hashFunc:<class '__main__.FourierHasher'>\n",
      "mean:0.0, median:0.0, time:505.8917622566223\n",
      "\n",
      "m:8192 r:0.4, hashFunc:<class '__main__.GaussianHasher'>\n",
      "mean:0.0, median:0.0, time:400.48907589912415\n",
      "\n",
      "m:8192 r:0.4, hashFunc:<class '__main__.FourierHasher'>\n",
      "mean:0.0, median:0.0, time:211.09454464912415\n",
      "\n",
      "m:8192 r:0.6, hashFunc:<class '__main__.GaussianHasher'>\n",
      "mean:0.0, median:0.0, time:367.18861198425293\n",
      "\n",
      "m:8192 r:0.6, hashFunc:<class '__main__.FourierHasher'>\n",
      "mean:0.0, median:0.0, time:205.24553513526917\n",
      "\n"
     ]
    }
   ],
   "source": [
    "import time\n",
    "\n",
    "m = [2**13, 2**17, 2**20, 2**23]\n",
    "r = [0.2, 0.4, 0.6]\n",
    "hash_func = [GaussianHasher, FourierHasher]\n",
    "\n",
    "mean = np.zeros((len(m), len(r),len(hash_func)))\n",
    "median = np.zeros((len(m), len(r),len(hash_func)))\n",
    "time_list = np.zeros((len(m), len(r),len(hash_func)))\n",
    "\n",
    "\n",
    "for i,m_value in enumerate(m):\n",
    "    for j,r_value in enumerate(r): \n",
    "        for k,func in enumerate(hash_func):\n",
    "            start_time = time.time()\n",
    "            mean[i,j,k], median[i,j,k] = calculate(m_value, r_value, func)\n",
    "            time_list[i,j,k] = time.time() - start_time\n",
    "            print(\"mean:{}, median:{}, time:{}\\n\".format(mean[i,j,k], median[i,j,k], time_list[i,j,k]))\n"
   ]
  },
  {
   "cell_type": "code",
   "execution_count": 3,
   "metadata": {},
   "outputs": [
    {
     "data": {
      "text/plain": [
       "[<matplotlib.lines.Line2D at 0x7fdb4c0bfe80>]"
      ]
     },
     "execution_count": 3,
     "metadata": {},
     "output_type": "execute_result"
    },
    {
     "data": {
      "image/png": "[encoded data removed]",
      "text/plain": [
       "<Figure size 432x288 with 1 Axes>"
      ]
     },
     "metadata": {},
     "output_type": "display_data"
    }
   ],
   "source": [
    "import matplotlib.pyplot as plt\n",
    "import numpy as np\n",
    "\n",
    "# Prepare the data\n",
    "plt.plot([1,2,3,4], [1,4,9,16], 'ro')\n",
    "\n"
   ]
  },
  {
   "cell_type": "code",
   "execution_count": 137,
   "metadata": {},
   "outputs": [
    {
     "name": "stdout",
     "output_type": "stream",
     "text": [
      "[[ 0.55  0.02  0.02]\n",
      " [ 4.83  0.08  0.  ]\n",
      " [11.74  0.36  0.04]\n",
      " [ 0.    0.    0.  ]\n",
      " [ 0.    0.    0.  ]]\n",
      "[[ 0.  0.  0.]\n",
      " [ 5.  0.  0.]\n",
      " [12.  0.  0.]\n",
      " [ 0.  0.  0.]\n",
      " [ 0.  0.  0.]]\n"
     ]
    }
   ],
   "source": [
    "print(mean)\n",
    "print(median)"
   ]
  }
 ],
 "metadata": {
  "kernelspec": {
   "display_name": "Python 3",
   "language": "python",
   "name": "python3"
  },
  "language_info": {
   "codemirror_mode": {
    "name": "ipython",
    "version": 3
   },
   "file_extension": ".py",
   "mimetype": "text/x-python",
   "name": "python",
   "nbconvert_exporter": "python",
   "pygments_lexer": "ipython3",
   "version": "3.6.5"
  },
  "toc": {
   "base_numbering": 1,
   "nav_menu": {},
   "number_sections": true,
   "sideBar": true,
   "skip_h1_title": false,
   "title_cell": "Table of Contents",
   "title_sidebar": "Contents",
   "toc_cell": false,
   "toc_position": {},
   "toc_section_display": true,
   "toc_window_display": false
  },
  "varInspector": {
   "cols": {
    "lenName": 16,
    "lenType": 16,
    "lenVar": 40
   },
   "kernels_config": {
    "python": {
     "delete_cmd_postfix": "",
     "delete_cmd_prefix": "del ",
     "library": "var_list.py",
     "varRefreshCmd": "print(var_dic_list())"
    },
    "r": {
     "delete_cmd_postfix": ") ",
     "delete_cmd_prefix": "rm(",
     "library": "var_list.r",
     "varRefreshCmd": "cat(var_dic_list()) "
    }
   },
   "types_to_exclude": [
    "module",
    "function",
    "builtin_function_or_method",
    "instance",
    "_Feature"
   ],
   "window_display": false
  }
 },
 "nbformat": 4,
 "nbformat_minor": 2
}
