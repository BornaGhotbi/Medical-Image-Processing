{
 "cells": [
  {
   "cell_type": "code",
   "execution_count": 67,
   "metadata": {},
   "outputs": [
    {
     "name": "stdout",
     "output_type": "stream",
     "text": [
      "running TensorFlow version 1.9.0\n"
     ]
    }
   ],
   "source": [
    "import tensorflow as tf\n",
    "import json\n",
    "import matplotlib.image as mpimg\n",
    "import numpy as np\n",
    "import os\n",
    "from collections import defaultdict\n",
    "from collections import OrderedDict\n",
    "\n",
    "import matplotlib.pyplot as plt\n",
    "import numpy as np\n",
    "import heapq\n",
    "\n",
    "import operator\n",
    "\n",
    "from sklearn import metrics\n",
    "from sklearn.metrics import roc_auc_score\n",
    "\n",
    "from tensorflow.contrib.tensorboard.plugins import projector\n",
    "\n",
    "%matplotlib inline\n",
    "\n",
    "print(\"running TensorFlow version {}\".format(tf.__version__))"
   ]
  },
  {
   "cell_type": "code",
   "execution_count": 68,
   "metadata": {},
   "outputs": [],
   "source": [
    "RANDOM_SEED = 42\n",
    "#SUBSET = \"golden_src\"\n",
    "\n",
    "LOG_ROOT = '../../data/'\n",
    "\n",
    "RUN_NAME = 'vae/vae_016'\n",
    "SUMMARY_DIR = os.path.join(LOG_ROOT, 'logs', RUN_NAME)\n",
    "\n",
    "EXPT_NAME = 'expt_016'\n",
    "DATA_ROOT = '/var/data/processed'\n",
    "ORIGINAL_DATA_ROOT = '/var/data/original'\n",
    "\n",
    "EXPT_DIR = os.path.join(DATA_ROOT, EXPT_NAME, 'data')\n",
    "TFRECORDS_DIR = os.path.join(EXPT_DIR, 'tfrecords')\n",
    "EMBEDDINGS_DIR = os.path.join(EXPT_DIR, 'embeddings')\n",
    "GOLDEN_EMBEDDINGS_DIR = os.path.join(EXPT_DIR, 'golden_embeddings')\n",
    "ENCODED_IMAGES_DIR =  os.path.join(EXPT_DIR, 'images')\n",
    "ORIGINAL_IMAGES_DIR = os.path.join(ORIGINAL_DATA_ROOT, 'data', 'images')\n",
    "ORIGINAL_JSONS_DIR = os.path.join(ORIGINAL_DATA_ROOT, 'labels')\n"
   ]
  },
  {
   "cell_type": "code",
   "execution_count": null,
   "metadata": {},
   "outputs": [],
   "source": [
    "#get validation and test sets\n",
    "\n",
    "validate_docs = []\n",
    "test_docs = []\n",
    "json_files = [pos_json for pos_json in os.listdir(EMBEDDINGS_DIR) if pos_json.endswith('.json')]\n",
    "i = 0\n",
    "for file in json_files:\n",
    "    path = os.path.join(EMBEDDINGS_DIR, file)\n",
    "    with open(path) as f:\n",
    "        doc = json.load(f)\n",
    "        if (doc['subset'] == 'validate'):\n",
    "            validate_docs.append(doc)\n",
    "        elif (doc['subset'] == 'test'):\n",
    "            test_docs.append(doc)\n",
    "        i += 1\n",
    "        if(i%1000 == 0):\n",
    "            print(i, end =\" \")\n",
    "            \n"
   ]
  },
  {
   "cell_type": "code",
   "execution_count": 58,
   "metadata": {},
   "outputs": [],
   "source": [
    "#get golden sets for source and radiologist\n",
    "\n",
    "golden_src_docs = []\n",
    "golden_dr_docs = []\n",
    "\n",
    "golden_json_files = [pos_json for pos_json in os.listdir(GOLDEN_EMBEDDINGS_DIR) if pos_json.endswith('.json')]\n",
    "\n",
    "i = 0\n",
    "for file in golden_json_files:\n",
    "    path = os.path.join(GOLDEN_EMBEDDINGS_DIR, file)\n",
    "    with open(path) as f:\n",
    "        doc = json.load(f)\n",
    "        if (doc['subset'] == 'golden_src'):\n",
    "            golden_src_docs.append(doc)\n",
    "        elif (doc['subset'] == 'golden_dr'):\n",
    "            golden_dr_docs.append(doc)\n"
   ]
  },
  {
   "cell_type": "markdown",
   "metadata": {},
   "source": [
    "# Examine images"
   ]
  },
  {
   "cell_type": "markdown",
   "metadata": {},
   "source": [
    "## AU_ROC"
   ]
  },
  {
   "cell_type": "code",
   "execution_count": 70,
   "metadata": {},
   "outputs": [],
   "source": [
    "import math\n",
    "\n",
    "def sigmoid(lst):\n",
    "    result = []\n",
    "    for item in lst:\n",
    "        \n",
    "        sig = 1 / (1 + math.exp(-item))\n",
    "        #sig = round(sig)\n",
    "        result.append(sig)\n",
    "        \n",
    "    return result"
   ]
  },
  {
   "cell_type": "code",
   "execution_count": 71,
   "metadata": {},
   "outputs": [],
   "source": [
    "aucs = []\n",
    "prob = np.array(prob)\n",
    "gt = np.array(gt)\n",
    "\n",
    "for ii in range(gt.shape[1]):\n",
    "    auc = roc_auc_score(np.array(gt[:, ii]), np.array(prob[:,ii]))\n",
    "    aucs.append(auc)\n"
   ]
  },
  {
   "cell_type": "code",
   "execution_count": 72,
   "metadata": {},
   "outputs": [
    {
     "name": "stdout",
     "output_type": "stream",
     "text": [
      "[0.6228384529393831, 0.7035963258129585, 0.6622514928781097, 0.7410830948625622, 0.6881331133222995, 0.601719033714803, 0.6974668847641191, 0.7495225468377607, 0.5712492664797548, 0.5744994994132042, 0.6070614751692065, 0.6234913416127339, 0.5779532440970311, 0.6398422038738713]\n"
     ]
    },
    {
     "data": {
      "text/plain": [
       "'total = 0.6398422038738713'"
      ]
     },
     "execution_count": 72,
     "metadata": {},
     "output_type": "execute_result"
    }
   ],
   "source": [
    "print(aucs)\n",
    "\"total = {}\".format(auc)"
   ]
  },
  {
   "cell_type": "code",
   "execution_count": null,
   "metadata": {},
   "outputs": [],
   "source": [
    "print(aucs)\n",
    "\"total = {}\".format(auc)"
   ]
  },
  {
   "cell_type": "code",
   "execution_count": 59,
   "metadata": {},
   "outputs": [
    {
     "data": {
      "image/png": "[encoded data removed]",
      "text/plain": [
       "<Figure size 432x288 with 1 Axes>"
      ]
     },
     "metadata": {},
     "output_type": "display_data"
    }
   ],
   "source": [
    "#inputs are binary vector of size 14 for labels and probability vector of size for pred_labels \n",
    "\n",
    "def roc_curve(labels, pred_labels):\n",
    "    \n",
    "    pred_labels = sigmoid(pred_labels)\n",
    "    x,y,_ = roc_curve(labels, pred_labels)\n",
    "    roc_auc = auc(x, y)\n",
    "    plt.figure()\n",
    "    lw = 2\n",
    "    plt.plot(x, y, color='darkorange',lw=lw, label='ROC curve (area = %0.2f)' % roc_auc)\n",
    "    plt.plot([0, 1], [0, 1], color='navy', lw=lw, linestyle='--')\n",
    "    plt.xlim([0.0, 1.0])\n",
    "    plt.ylim([0.0, 1.05])\n",
    "    plt.xlabel('False Positive Rate')\n",
    "    plt.ylabel('True Positive Rate')\n",
    "    plt.title('Receiver operating characteristic example')\n",
    "    plt.legend(loc=\"lower right\")\n",
    "    plt.show()"
   ]
  },
  {
   "cell_type": "code",
   "execution_count": 5,
   "metadata": {},
   "outputs": [],
   "source": [
    "## Define label keys\n",
    "LABEL_KEYS = [\n",
    "    \"Atelectasis\",\n",
    "    \"Cardiomegaly\",\n",
    "    \"Consolidation\",\n",
    "    \"Edema\",\n",
    "    \"Effusion\",\n",
    "    \"Emphysema\",\n",
    "    \"Fibrosis\",\n",
    "    \"Hernia\",\n",
    "    \"Infiltration\",\n",
    "    \"Mass\",\n",
    "    \"Nodule\",\n",
    "    \"Pleural_Thickening\",\n",
    "    \"Pneumonia\",\n",
    "    \"Pneumothorax\",\n",
    "]\n",
    "\n",
    "nb_label_keys = len(LABEL_KEYS)\n",
    "label_keys_by_id = LABEL_KEYS\n",
    "ids_by_label_key = OrderedDict([(k,v) for k, v in enumerate(label_keys_by_id)])\n",
    "\n"
   ]
  },
  {
   "cell_type": "code",
   "execution_count": 126,
   "metadata": {},
   "outputs": [],
   "source": [
    "def cal_auroc(docs):\n",
    "\n",
    "    label2score = {key: list([]) for key in LABEL_KEYS}\n",
    "    count = {key: 0 for key in LABEL_KEYS}\n",
    "    total_score = []\n",
    "    \n",
    "    for doc in docs:\n",
    "        score = roc_auc_score(doc['labels'], sigmoid(doc['pred_labels']))\n",
    "        for i,l in enumerate(doc['labels']):\n",
    "            if(l == 1):\n",
    "                label = ids_by_label_key[i]\n",
    "                label2score[label].append(score)\n",
    "                total_score.append(score)\n",
    "                count[label] +=1\n",
    "                \n",
    "    return label2score, count, total_score\n",
    "    '''for k in label2score:\n",
    "        print(\"{:<20s}  {}\".format(k,np.mean(label2score[k])))\n",
    "    print(\"\")\n",
    "    print(\"{:<20s}  {}\".format(\"TOTAL\",np.mean(total_score)))'''"
   ]
  },
  {
   "cell_type": "code",
   "execution_count": 10,
   "metadata": {},
   "outputs": [],
   "source": [
    "def cal_auroc(docs):\n",
    "\n",
    "    category2labels = {key: list([]) for key in LABEL_KEYS}\n",
    "    category2pred_labels = {key: list([]) for key in LABEL_KEYS}\n",
    "    count = {key: 0 for key in LABEL_KEYS}\n",
    "    total_score = []\n",
    "    labels = []\n",
    "    pred_labels = []\n",
    "    for doc in docs:\n",
    "        for i,l in enumerate(doc['labels']):\n",
    "            if(doc['labels'][i] == 1):\n",
    "                label = ids_by_label_key[i]\n",
    "                category2labels[label].append(doc['labels'])\n",
    "                category2pred_labels[label].append(doc['pred_labels'])\n",
    "        \n",
    "            elif(doc['pred_labels'][i] == 1):\n",
    "                label = ids_by_label_key[i]\n",
    "                category2labels[label].append(doc['labels'])\n",
    "                category2pred_labels[label].append(doc['pred_labels'])\n",
    "        \n",
    "        labels.append(doc['labels'])\n",
    "        pred_labels.append(doc['pred_labels'])\n",
    "    \n",
    "    #score = roc_auc_score(np.array(labels), np.array(pred_labels),average='micro')\n",
    "    return category2labels, category2pred_labels\n",
    "    "
   ]
  },
  {
   "cell_type": "code",
   "execution_count": 11,
   "metadata": {},
   "outputs": [
    {
     "name": "stdout",
     "output_type": "stream",
     "text": [
      "Atelectasis           0.8408167189313248\n",
      "Cardiomegaly          0.6244322256753526\n",
      "Consolidation         0.7346925030832744\n",
      "Edema                 0.6178103519645013\n",
      "Effusion              0.8377162007064203\n",
      "Emphysema             0.5642486261398318\n",
      "Fibrosis              0.4984956708796676\n",
      "Hernia                0.2083941352234035\n",
      "Infiltration          0.8806749154688329\n",
      "Mass                  0.731914005426842\n",
      "Nodule                0.7613478906203235\n",
      "Pleural_Thickening    0.6187339559386974\n",
      "Pneumonia             0.4891986070710871\n",
      "Pneumothorax          0.6733184057321989\n",
      "\n"
     ]
    }
   ],
   "source": [
    "#\"Results for expt_10 on validation data. classifier with removed no finding + weighting more on label 1\n",
    "# + regularization 2 (CE) = 0.1\"\n",
    "\n",
    "val_category2labels, val_category2pred_labels = cal_auroc(validate_docs)\n",
    "\n",
    "for k in val_category2labels:\n",
    "    print(\"{:<20s}  {}\".format(k,roc_auc_score(np.array(val_category2labels[k]), np.array(val_category2pred_labels[k]), average='micro')))\n",
    "print(\"\")\n",
    "#print(\"{:<20s}  {}\".format(\"TOTAL\",np.mean(val_total_score)))"
   ]
  },
  {
   "cell_type": "code",
   "execution_count": 88,
   "metadata": {},
   "outputs": [
    {
     "name": "stdout",
     "output_type": "stream",
     "text": [
      "int64\n"
     ]
    },
    {
     "data": {
      "text/plain": [
       "1.0"
      ]
     },
     "execution_count": 88,
     "metadata": {},
     "output_type": "execute_result"
    }
   ],
   "source": [
    "import numpy as np\n",
    "from sklearn.metrics import roc_auc_score\n",
    "y_true = np.array([[0, 0, 0, 0],[0, 1, 1, 1],[0, 1, 1, 1]])\n",
    "y_pred = np.array([[0.1, 0.4, 0.35, 0.8],[0.1, 0.2, 0.75, 0.8],[0.1, 0.2, 0.75, 0.8]])\n",
    "print(y_pred.dtype)\n",
    "roc_auc_score(y_true, y_pred, average='samples')\n",
    "\n"
   ]
  },
  {
   "cell_type": "code",
   "execution_count": null,
   "metadata": {},
   "outputs": [],
   "source": [
    "score = []\n",
    "for i,y in enumerate(y_true):\n",
    "    score.append(roc_auc_score(y_true[i], y_scores[i]))\n",
    "print(score)"
   ]
  },
  {
   "cell_type": "code",
   "execution_count": 6,
   "metadata": {},
   "outputs": [
    {
     "ename": "NameError",
     "evalue": "name 'LABEL_KEYS' is not defined",
     "output_type": "error",
     "traceback": [
      "\u001b[0;31m---------------------------------------------------------------------------\u001b[0m",
      "\u001b[0;31mNameError\u001b[0m                                 Traceback (most recent call last)",
      "\u001b[0;32m<ipython-input-6-861d6dea0d77>\u001b[0m in \u001b[0;36m<module>\u001b[0;34m()\u001b[0m\n\u001b[1;32m      2\u001b[0m \u001b[0;31m# + regularization 2 (CE) = 0.1\"\u001b[0m\u001b[0;34m\u001b[0m\u001b[0;34m\u001b[0m\u001b[0m\n\u001b[1;32m      3\u001b[0m \u001b[0;34m\u001b[0m\u001b[0m\n\u001b[0;32m----> 4\u001b[0;31m \u001b[0mval_label2score\u001b[0m\u001b[0;34m,\u001b[0m \u001b[0mval_count\u001b[0m\u001b[0;34m,\u001b[0m \u001b[0mval_total_score\u001b[0m \u001b[0;34m=\u001b[0m \u001b[0mcal_auroc\u001b[0m\u001b[0;34m(\u001b[0m\u001b[0mvalidate_docs\u001b[0m\u001b[0;34m)\u001b[0m\u001b[0;34m\u001b[0m\u001b[0m\n\u001b[0m\u001b[1;32m      5\u001b[0m \u001b[0;34m\u001b[0m\u001b[0m\n\u001b[1;32m      6\u001b[0m \u001b[0;32mfor\u001b[0m \u001b[0mk\u001b[0m \u001b[0;32min\u001b[0m \u001b[0mval_label2score\u001b[0m\u001b[0;34m:\u001b[0m\u001b[0;34m\u001b[0m\u001b[0m\n",
      "\u001b[0;32m<ipython-input-4-afb11b8bd479>\u001b[0m in \u001b[0;36mcal_auroc\u001b[0;34m(docs)\u001b[0m\n\u001b[1;32m      1\u001b[0m \u001b[0;32mdef\u001b[0m \u001b[0mcal_auroc\u001b[0m\u001b[0;34m(\u001b[0m\u001b[0mdocs\u001b[0m\u001b[0;34m)\u001b[0m\u001b[0;34m:\u001b[0m\u001b[0;34m\u001b[0m\u001b[0m\n\u001b[1;32m      2\u001b[0m \u001b[0;34m\u001b[0m\u001b[0m\n\u001b[0;32m----> 3\u001b[0;31m     \u001b[0mlabel2score\u001b[0m \u001b[0;34m=\u001b[0m \u001b[0;34m{\u001b[0m\u001b[0mkey\u001b[0m\u001b[0;34m:\u001b[0m \u001b[0mlist\u001b[0m\u001b[0;34m(\u001b[0m\u001b[0;34m[\u001b[0m\u001b[0;34m]\u001b[0m\u001b[0;34m)\u001b[0m \u001b[0;32mfor\u001b[0m \u001b[0mkey\u001b[0m \u001b[0;32min\u001b[0m \u001b[0mLABEL_KEYS\u001b[0m\u001b[0;34m}\u001b[0m\u001b[0;34m\u001b[0m\u001b[0m\n\u001b[0m\u001b[1;32m      4\u001b[0m     \u001b[0mcount\u001b[0m \u001b[0;34m=\u001b[0m \u001b[0;34m{\u001b[0m\u001b[0mkey\u001b[0m\u001b[0;34m:\u001b[0m \u001b[0;36m0\u001b[0m \u001b[0;32mfor\u001b[0m \u001b[0mkey\u001b[0m \u001b[0;32min\u001b[0m \u001b[0mLABEL_KEYS\u001b[0m\u001b[0;34m}\u001b[0m\u001b[0;34m\u001b[0m\u001b[0m\n\u001b[1;32m      5\u001b[0m     \u001b[0mtotal_score\u001b[0m \u001b[0;34m=\u001b[0m \u001b[0;34m[\u001b[0m\u001b[0;34m]\u001b[0m\u001b[0;34m\u001b[0m\u001b[0m\n",
      "\u001b[0;31mNameError\u001b[0m: name 'LABEL_KEYS' is not defined"
     ]
    }
   ],
   "source": [
    "#\"Results for expt_10 on validation data. classifier with removed no finding + weighting more on label 1\n",
    "# + regularization 2 (CE) = 0.1\"\n",
    "\n",
    "val_label2score, val_count, val_total_score = cal_auroc(validate_docs)\n",
    "\n",
    "for k in val_label2score:\n",
    "    print(\"{:<20s}  {}\".format(k,np.mean(val_label2score[k])))\n",
    "print(\"\")\n",
    "print(\"{:<20s}  {}\".format(\"TOTAL\",np.mean(val_total_score)))"
   ]
  },
  {
   "cell_type": "code",
   "execution_count": 112,
   "metadata": {},
   "outputs": [
    {
     "ename": "NameError",
     "evalue": "name 'tag2scores' is not defined",
     "output_type": "error",
     "traceback": [
      "\u001b[0;31m---------------------------------------------------------------------------\u001b[0m",
      "\u001b[0;31mNameError\u001b[0m                                 Traceback (most recent call last)",
      "\u001b[0;32m<ipython-input-112-4c16eb55ddce>\u001b[0m in \u001b[0;36m<module>\u001b[0;34m()\u001b[0m\n\u001b[1;32m      1\u001b[0m \u001b[0;31m#results for expt_10 on validation data. classifier with removed no finding + weighting more on label 1\u001b[0m\u001b[0;34m\u001b[0m\u001b[0;34m\u001b[0m\u001b[0m\n\u001b[1;32m      2\u001b[0m \u001b[0;31m# + regularization 2 (CE) = 0.5\u001b[0m\u001b[0;34m\u001b[0m\u001b[0;34m\u001b[0m\u001b[0m\n\u001b[0;32m----> 3\u001b[0;31m \u001b[0;32mfor\u001b[0m \u001b[0mk\u001b[0m \u001b[0;32min\u001b[0m \u001b[0mtag2scores\u001b[0m\u001b[0;34m:\u001b[0m\u001b[0;34m\u001b[0m\u001b[0m\n\u001b[0m\u001b[1;32m      4\u001b[0m     \u001b[0mprint\u001b[0m\u001b[0;34m(\u001b[0m\u001b[0;34m\"{:<20s}  {}\"\u001b[0m\u001b[0;34m.\u001b[0m\u001b[0mformat\u001b[0m\u001b[0;34m(\u001b[0m\u001b[0mk\u001b[0m\u001b[0;34m,\u001b[0m\u001b[0mnp\u001b[0m\u001b[0;34m.\u001b[0m\u001b[0mmean\u001b[0m\u001b[0;34m(\u001b[0m\u001b[0mtag2scores\u001b[0m\u001b[0;34m[\u001b[0m\u001b[0mk\u001b[0m\u001b[0;34m]\u001b[0m\u001b[0;34m)\u001b[0m\u001b[0;34m)\u001b[0m\u001b[0;34m)\u001b[0m\u001b[0;34m\u001b[0m\u001b[0m\n",
      "\u001b[0;31mNameError\u001b[0m: name 'tag2scores' is not defined"
     ]
    }
   ],
   "source": [
    "#results for expt_10 on validation data. classifier with removed no finding + weighting more on label 1 \n",
    "# + regularization 2 (CE) = 0.5\n",
    "for k in tag2scores:\n",
    "    print(\"{:<20s}  {}\".format(k,np.mean(tag2scores[k])))"
   ]
  },
  {
   "cell_type": "code",
   "execution_count": 39,
   "metadata": {},
   "outputs": [
    {
     "name": "stdout",
     "output_type": "stream",
     "text": [
      "Atelectasis           0.8480769230769233\n",
      "Cardiomegaly          0.46153846153846156\n",
      "Consolidation         0.84375\n",
      "Edema                 0.4615384615384615\n",
      "Effusion              0.8811605061605061\n",
      "Emphysema             0.43076923076923074\n",
      "Fibrosis              0.1923076923076923\n",
      "Hernia                0.0\n",
      "Infiltration          0.9468864468864469\n",
      "Mass                  0.8044871794871794\n",
      "Nodule                0.578046953046953\n",
      "Pleural_Thickening    0.686698717948718\n",
      "Pneumonia             nan\n",
      "Pneumothorax          0.5881118881118881\n",
      "\n",
      "TOTAL                 0.7331330641189793\n"
     ]
    },
    {
     "name": "stderr",
     "output_type": "stream",
     "text": [
      "/usr/local/lib/python3.6/site-packages/numpy/core/fromnumeric.py:2957: RuntimeWarning: Mean of empty slice.\n",
      "  out=out, **kwargs)\n",
      "/usr/local/lib/python3.6/site-packages/numpy/core/_methods.py:80: RuntimeWarning: invalid value encountered in double_scalars\n",
      "  ret = ret.dtype.type(ret / rcount)\n"
     ]
    }
   ],
   "source": [
    "#\"Results for expt_10 on golden_src data. classifier with removed no finding + weighting more on label 1\n",
    "# + regularization 2 (CE) = 0.1\"\n",
    "\n",
    "golden_src_label2score, golden_src_count, golden_src_total_score = cal_auroc(golden_src_docs)\n",
    "\n",
    "for k in golden_src_label2score:\n",
    "    print(\"{:<20s}  {}\".format(k,np.mean(golden_src_label2score[k])))\n",
    "print(\"\")\n",
    "print(\"{:<20s}  {}\".format(\"TOTAL\",np.mean(golden_src_total_score)))"
   ]
  },
  {
   "cell_type": "code",
   "execution_count": 61,
   "metadata": {},
   "outputs": [
    {
     "name": "stdout",
     "output_type": "stream",
     "text": [
      "Atelectasis           0.751118881118881\n",
      "Cardiomegaly          0.48946386946386944\n",
      "Consolidation         0.7758912655971478\n",
      "Edema                 0.535916860916861\n",
      "Effusion              0.7679587653725585\n",
      "Emphysema             nan\n",
      "Fibrosis              0.40466200466200464\n",
      "Hernia                0.4409090909090909\n",
      "Infiltration          0.8631944444444445\n",
      "Mass                  0.744014319014319\n",
      "Nodule                0.725\n",
      "Pleural_Thickening    0.7072727272727273\n",
      "Pneumonia             0.7250000000000001\n",
      "Pneumothorax          0.7097125097125098\n",
      "\n",
      "TOTAL                 0.70652289544907\n"
     ]
    },
    {
     "name": "stderr",
     "output_type": "stream",
     "text": [
      "/usr/local/lib/python3.6/site-packages/numpy/core/fromnumeric.py:2957: RuntimeWarning: Mean of empty slice.\n",
      "  out=out, **kwargs)\n",
      "/usr/local/lib/python3.6/site-packages/numpy/core/_methods.py:80: RuntimeWarning: invalid value encountered in double_scalars\n",
      "  ret = ret.dtype.type(ret / rcount)\n"
     ]
    }
   ],
   "source": [
    "#\"Results for expt_10 on golden_dr data. classifier with removed no finding + weighting more on label 1\n",
    "# + regularization 2 (CE) = 0.1\"\n",
    "\n",
    "golden_dr_label2score, golden_dr_count, golden_dr_total_score = cal_auroc(golden_dr_docs)\n",
    "\n",
    "for k in golden_dr_label2score:\n",
    "    print(\"{:<20s}  {}\".format(k,np.mean(golden_dr_label2score[k])))\n",
    "print(\"\")\n",
    "print(\"{:<20s}  {}\".format(\"TOTAL\",np.mean(golden_dr_total_score)))"
   ]
  },
  {
   "cell_type": "code",
   "execution_count": 59,
   "metadata": {},
   "outputs": [
    {
     "name": "stdout",
     "output_type": "stream",
     "text": [
      "{'Atelectasis': 9287, 'Cardiomegaly': 2240, 'Consolidation': 3788, 'Edema': 1880, 'Effusion': 10850, 'Emphysema': 2027, 'Fibrosis': 1314, 'Hernia': 183, 'Infiltration': 16046, 'Mass': 4662, 'Nodule': 5042, 'Pleural_Thickening': 2737, 'Pneumonia': 1111, 'Pneumothorax': 4316}\n"
     ]
    }
   ],
   "source": [
    "print(count)"
   ]
  },
  {
   "cell_type": "markdown",
   "metadata": {},
   "source": [
    "## F1 Score"
   ]
  },
  {
   "cell_type": "code",
   "execution_count": 84,
   "metadata": {},
   "outputs": [
    {
     "name": "stderr",
     "output_type": "stream",
     "text": [
      "/usr/local/lib/python3.6/site-packages/sklearn/metrics/classification.py:1135: UndefinedMetricWarning: F-score is ill-defined and being set to 0.0 in labels with no predicted samples.\n",
      "  'precision', 'predicted', average, warn_for)\n"
     ]
    }
   ],
   "source": [
    "for doc in val_documents:\n",
    "    f1_score = metrics.f1_score(doc['labels'], sigmoid(doc['pred_labels']), average='weighted')\n",
    "    for i,l in enumerate(doc['labels']):\n",
    "        if(l == 1):\n",
    "            label = ids_by_label_key[i]\n",
    "            tag2scores[label].append(score)\n",
    "            count[label] +=1\n"
   ]
  },
  {
   "cell_type": "code",
   "execution_count": 85,
   "metadata": {},
   "outputs": [
    {
     "name": "stdout",
     "output_type": "stream",
     "text": [
      "Atelectasis           0.8709901533607588\n",
      "Cardiomegaly          0.6635715868025428\n",
      "Consolidation         0.7656593448090425\n",
      "Edema                 0.6779740183469267\n",
      "Effusion              0.8793934129475763\n",
      "Emphysema             0.5787352325159423\n",
      "Fibrosis              0.5403393921715622\n",
      "Hernia                0.3407015881314947\n",
      "Infiltration          0.9267484321213368\n",
      "Mass                  0.7693612832085148\n",
      "Nodule                0.8012287132698942\n",
      "Pleural_Thickening    0.6470131942032211\n",
      "Pneumonia             0.5579650339143322\n",
      "Pneumothorax          0.7203177838038133\n"
     ]
    }
   ],
   "source": [
    "#results for expt_10 on validation data. classifier with removed no finding + weighting more on label 1 \n",
    "# + regularization 2 (CE) = 0.1\n",
    "\n",
    "for k in tag2scores:\n",
    "    print(\"{:<20s}  {}\".format(k,np.mean(tag2scores[k])))"
   ]
  },
  {
   "cell_type": "code",
   "execution_count": 79,
   "metadata": {},
   "outputs": [
    {
     "name": "stdout",
     "output_type": "stream",
     "text": [
      "Radiologist                                                          Source                    \n",
      "------------------------------------------------------------------------------------------------------------------------\n",
      "\n",
      "[1, 0, 0, 0, 1, 0, 0, 0, 1, 1, 1, 0, 0, 1]               [1, 0, 0, 0, 0, 0, 0, 0, 0, 0, 0, 0, 0, 0]\n",
      "\n",
      "[1, 0, 1, 0, 1, 0, 0, 0, 1, 0, 0, 0, 0, 0]               [1, 0, 0, 0, 0, 0, 0, 0, 0, 0, 0, 0, 0, 1]\n",
      "\n",
      "[1, 0, 1, 1, 1, 0, 0, 0, 1, 0, 1, 0, 0, 0]               [1, 0, 0, 0, 0, 0, 0, 0, 0, 0, 0, 0, 0, 0]\n",
      "\n",
      "[1, 0, 1, 0, 1, 0, 0, 0, 1, 1, 1, 0, 0, 1]               [0, 0, 0, 0, 0, 0, 0, 0, 0, 0, 1, 0, 0, 0]\n",
      "\n",
      "[1, 0, 0, 0, 1, 0, 0, 0, 1, 1, 1, 0, 0, 0]               [0, 0, 0, 1, 0, 0, 0, 0, 0, 0, 0, 0, 0, 0]\n",
      "\n",
      "[1, 0, 0, 0, 1, 0, 0, 0, 1, 1, 1, 0, 0, 1]               [1, 0, 0, 0, 0, 0, 0, 0, 0, 0, 0, 0, 0, 0]\n",
      "\n",
      "[1, 0, 1, 1, 1, 0, 0, 0, 1, 0, 1, 0, 0, 0]               [0, 0, 0, 0, 0, 0, 0, 0, 1, 0, 0, 0, 0, 0]\n",
      "\n",
      "[1, 0, 1, 0, 1, 0, 0, 0, 1, 1, 1, 0, 0, 1]               [0, 0, 0, 0, 0, 0, 0, 0, 1, 0, 0, 0, 0, 0]\n",
      "\n",
      "[1, 0, 0, 0, 1, 0, 0, 0, 1, 1, 1, 1, 0, 1]               [0, 0, 0, 0, 0, 1, 0, 0, 0, 0, 0, 0, 0, 1]\n",
      "\n",
      "[1, 0, 0, 0, 1, 0, 0, 0, 1, 1, 1, 0, 0, 0]               [0, 0, 0, 0, 1, 0, 0, 0, 0, 0, 1, 0, 0, 1]\n",
      "\n",
      "[1, 0, 1, 0, 1, 0, 0, 0, 1, 1, 0, 0, 0, 0]               [0, 0, 0, 0, 0, 0, 1, 1, 0, 0, 0, 0, 0, 0]\n",
      "\n",
      "[1, 0, 1, 1, 1, 0, 0, 0, 1, 0, 0, 0, 0, 0]               [1, 0, 0, 0, 0, 0, 0, 0, 0, 0, 0, 0, 0, 0]\n",
      "\n",
      "[1, 0, 1, 1, 1, 0, 0, 0, 1, 0, 0, 0, 0, 0]               [0, 0, 0, 0, 0, 1, 0, 0, 0, 0, 1, 0, 0, 0]\n",
      "\n",
      "[1, 0, 1, 0, 1, 0, 0, 0, 1, 0, 1, 0, 0, 0]               [0, 1, 0, 0, 0, 0, 0, 0, 0, 0, 0, 0, 0, 0]\n",
      "\n",
      "[1, 0, 0, 0, 1, 0, 0, 0, 1, 1, 1, 0, 0, 0]               [0, 0, 0, 0, 0, 0, 0, 0, 1, 0, 0, 0, 0, 0]\n",
      "\n",
      "[1, 0, 1, 0, 1, 0, 0, 0, 1, 0, 1, 0, 0, 1]               [1, 0, 0, 0, 0, 0, 0, 0, 0, 0, 0, 0, 0, 0]\n",
      "\n",
      "[1, 0, 1, 1, 1, 0, 0, 0, 1, 0, 0, 0, 0, 0]               [0, 0, 0, 0, 1, 0, 0, 0, 1, 0, 0, 0, 0, 0]\n",
      "\n",
      "[1, 0, 1, 0, 1, 0, 0, 0, 1, 0, 0, 0, 0, 0]               [0, 0, 0, 0, 0, 0, 0, 0, 0, 0, 1, 0, 0, 0]\n",
      "\n",
      "[1, 0, 0, 0, 1, 0, 0, 0, 1, 1, 0, 1, 0, 1]               [0, 0, 0, 0, 0, 1, 0, 0, 0, 0, 0, 1, 0, 0]\n",
      "\n",
      "[1, 0, 0, 0, 1, 0, 0, 0, 1, 1, 1, 0, 0, 0]               [0, 0, 1, 0, 0, 0, 0, 0, 1, 0, 0, 0, 0, 0]\n",
      "\n",
      "[1, 0, 0, 0, 1, 0, 0, 0, 1, 1, 1, 0, 0, 1]               [0, 0, 0, 0, 1, 0, 0, 0, 0, 0, 0, 0, 0, 0]\n",
      "\n",
      "[1, 0, 0, 0, 1, 0, 0, 0, 1, 1, 1, 0, 0, 1]               [1, 0, 0, 0, 0, 0, 0, 0, 0, 0, 0, 0, 0, 0]\n",
      "\n",
      "[1, 0, 1, 0, 1, 0, 0, 0, 1, 0, 0, 0, 0, 0]               [0, 0, 0, 1, 0, 0, 0, 0, 0, 0, 0, 0, 0, 0]\n",
      "\n",
      "[1, 0, 0, 0, 1, 1, 0, 0, 1, 1, 0, 0, 0, 1]               [0, 0, 0, 0, 0, 0, 0, 0, 0, 0, 0, 1, 0, 0]\n",
      "\n",
      "[1, 0, 1, 0, 1, 0, 0, 0, 1, 0, 1, 0, 0, 0]               [0, 0, 0, 0, 0, 0, 0, 0, 0, 0, 1, 0, 0, 0]\n",
      "\n",
      "[1, 0, 1, 0, 1, 0, 0, 0, 1, 0, 0, 0, 0, 1]               [0, 0, 0, 0, 1, 0, 0, 0, 1, 0, 1, 1, 0, 0]\n",
      "\n",
      "[1, 1, 0, 0, 1, 0, 0, 0, 1, 1, 1, 0, 0, 0]               [0, 0, 0, 0, 0, 0, 0, 0, 0, 0, 0, 0, 0, 1]\n",
      "\n",
      "[1, 0, 0, 0, 1, 0, 0, 0, 1, 1, 1, 0, 0, 1]               [1, 0, 0, 0, 1, 0, 0, 0, 1, 0, 0, 0, 0, 0]\n",
      "\n",
      "[1, 0, 1, 0, 1, 0, 0, 0, 1, 0, 0, 0, 0, 1]               [1, 0, 0, 0, 0, 1, 0, 0, 0, 0, 0, 0, 0, 0]\n",
      "\n",
      "[1, 0, 0, 0, 1, 0, 0, 0, 1, 0, 1, 0, 0, 0]               [0, 0, 0, 0, 0, 0, 0, 0, 1, 0, 0, 0, 0, 0]\n",
      "\n",
      "[1, 0, 0, 0, 1, 0, 0, 0, 1, 1, 1, 1, 0, 0]               [0, 0, 0, 0, 0, 0, 0, 0, 0, 1, 0, 0, 0, 0]\n",
      "\n",
      "[1, 0, 0, 0, 1, 0, 0, 0, 1, 1, 1, 0, 0, 0]               [0, 0, 0, 0, 0, 0, 0, 0, 1, 0, 0, 0, 0, 0]\n",
      "\n",
      "[1, 0, 1, 0, 1, 0, 0, 0, 1, 1, 0, 0, 0, 0]               [0, 0, 0, 0, 0, 1, 0, 0, 0, 0, 0, 0, 0, 0]\n",
      "\n",
      "[1, 0, 1, 0, 1, 0, 0, 0, 1, 1, 0, 0, 0, 1]               [0, 0, 0, 0, 1, 0, 0, 0, 1, 1, 0, 1, 0, 0]\n",
      "\n",
      "[1, 0, 0, 0, 0, 0, 0, 0, 1, 1, 1, 0, 0, 1]               [0, 0, 0, 0, 0, 0, 1, 0, 0, 0, 0, 0, 0, 0]\n",
      "\n",
      "[1, 0, 0, 0, 1, 0, 0, 0, 1, 1, 1, 0, 0, 1]               [1, 0, 0, 0, 0, 0, 0, 0, 1, 0, 0, 0, 0, 0]\n",
      "\n",
      "[1, 0, 1, 1, 1, 0, 0, 0, 1, 0, 1, 0, 0, 0]               [1, 0, 1, 0, 0, 0, 0, 0, 0, 0, 0, 0, 0, 0]\n",
      "\n",
      "[1, 0, 1, 1, 1, 0, 0, 0, 1, 1, 1, 0, 0, 0]               [0, 0, 0, 0, 0, 0, 0, 0, 1, 0, 0, 0, 0, 0]\n",
      "\n",
      "[1, 0, 0, 0, 1, 0, 0, 0, 1, 1, 1, 0, 0, 0]               [0, 0, 0, 0, 0, 0, 0, 0, 0, 1, 0, 0, 0, 0]\n",
      "\n",
      "[1, 0, 0, 0, 1, 0, 0, 0, 1, 0, 1, 0, 0, 0]               [1, 0, 1, 0, 0, 0, 0, 0, 0, 0, 0, 0, 0, 0]\n",
      "\n",
      "[1, 0, 1, 0, 1, 0, 0, 0, 1, 1, 1, 0, 0, 0]               [1, 0, 0, 0, 0, 0, 0, 0, 0, 0, 0, 0, 0, 0]\n",
      "\n",
      "[1, 0, 1, 0, 1, 0, 0, 0, 1, 1, 0, 0, 0, 0]               [0, 0, 1, 0, 0, 0, 0, 0, 1, 0, 0, 0, 0, 0]\n",
      "\n",
      "[1, 0, 0, 0, 1, 1, 0, 0, 1, 1, 1, 0, 0, 1]               [0, 0, 0, 0, 0, 0, 0, 0, 0, 0, 1, 0, 0, 0]\n",
      "\n",
      "[1, 0, 1, 0, 1, 0, 0, 0, 1, 1, 1, 0, 0, 0]               [0, 0, 0, 0, 1, 0, 0, 0, 0, 0, 0, 0, 0, 0]\n",
      "\n",
      "[1, 0, 1, 0, 1, 0, 0, 0, 1, 1, 1, 0, 0, 1]               [0, 0, 0, 0, 0, 0, 0, 0, 1, 0, 0, 0, 0, 0]\n",
      "\n",
      "[1, 0, 0, 1, 1, 0, 0, 0, 1, 1, 1, 0, 0, 0]               [0, 0, 0, 1, 0, 0, 0, 0, 0, 0, 0, 0, 0, 0]\n",
      "\n",
      "[1, 0, 0, 0, 1, 0, 0, 0, 1, 1, 1, 0, 0, 1]               [0, 0, 0, 0, 0, 0, 0, 0, 0, 0, 0, 0, 0, 1]\n",
      "\n",
      "[1, 0, 1, 0, 1, 0, 0, 0, 1, 0, 0, 0, 0, 0]               [1, 0, 0, 0, 0, 0, 0, 0, 0, 0, 0, 0, 0, 0]\n",
      "\n",
      "[1, 0, 1, 0, 1, 0, 0, 0, 1, 1, 1, 0, 0, 1]               [1, 0, 0, 0, 0, 0, 0, 0, 0, 0, 0, 0, 0, 0]\n",
      "\n"
     ]
    }
   ],
   "source": [
    "dash = '-' * 120\n",
    "\n",
    "print(\"Radiologist{:<57} Source{:<20}\"\n",
    "          .format(\"\",\n",
    "                  \"\",\n",
    "                 \"\"))\n",
    "print(dash + \"\\n\")\n",
    "\n",
    "for dr_doc in golden_src_docs:\n",
    "    pred_labels = sigmoid(dr_doc['pred_labels'])\n",
    "    print(pred_labels, end = \"               \")\n",
    "    print(dr_doc['labels'])\n",
    "    print(\"\")"
   ]
  },
  {
   "cell_type": "code",
   "execution_count": null,
   "metadata": {},
   "outputs": [],
   "source": []
  }
 ],
 "metadata": {
  "kernelspec": {
   "display_name": "Python 3",
   "language": "python",
   "name": "python3"
  },
  "language_info": {
   "codemirror_mode": {
    "name": "ipython",
    "version": 3
   },
   "file_extension": ".py",
   "mimetype": "text/x-python",
   "name": "python",
   "nbconvert_exporter": "python",
   "pygments_lexer": "ipython3",
   "version": "3.6.5"
  },
  "toc": {
   "base_numbering": 1,
   "nav_menu": {},
   "number_sections": true,
   "sideBar": true,
   "skip_h1_title": false,
   "title_cell": "Table of Contents",
   "title_sidebar": "Contents",
   "toc_cell": false,
   "toc_position": {},
   "toc_section_display": true,
   "toc_window_display": false
  },
  "varInspector": {
   "cols": {
    "lenName": 16,
    "lenType": 16,
    "lenVar": 40
   },
   "kernels_config": {
    "python": {
     "delete_cmd_postfix": "",
     "delete_cmd_prefix": "del ",
     "library": "var_list.py",
     "varRefreshCmd": "print(var_dic_list())"
    },
    "r": {
     "delete_cmd_postfix": ") ",
     "delete_cmd_prefix": "rm(",
     "library": "var_list.r",
     "varRefreshCmd": "cat(var_dic_list()) "
    }
   },
   "types_to_exclude": [
    "module",
    "function",
    "builtin_function_or_method",
    "instance",
    "_Feature"
   ],
   "window_display": false
  }
 },
 "nbformat": 4,
 "nbformat_minor": 2
}
