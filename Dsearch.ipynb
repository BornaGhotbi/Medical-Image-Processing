{
 "cells": [
  {
   "cell_type": "code",
   "execution_count": 2,
   "metadata": {},
   "outputs": [],
   "source": [
    "''' main hashing functions\n",
    "'''\n",
    "import string\n",
    "from collections import defaultdict\n",
    "\n",
    "import numpy as np"
   ]
  },
  {
   "cell_type": "code",
   "execution_count": 3,
   "metadata": {},
   "outputs": [],
   "source": [
    "def symbol_encode(n, symbols):\n",
    "    nb_symbols = len(symbols)\n",
    "    \n",
    "    if n < nb_symbols:\n",
    "        return symbols[n]\n",
    "    \n",
    "    retval = ''\n",
    "    while n > 0:\n",
    "        n, k = divmod(n, nb_symbols)\n",
    "        retval += symbols[k]\n",
    "\n",
    "    return retval\n"
   ]
  },
  {
   "cell_type": "code",
   "execution_count": 4,
   "metadata": {},
   "outputs": [],
   "source": [
    "def normalize(v, ord=2):\n",
    "    norm = np.linalg.norm(v, ord=ord)\n",
    "    if not norm:\n",
    "        return v\n",
    "    inv_norm = 1./norm\n",
    "    return inv_norm*v\n"
   ]
  },
  {
   "cell_type": "code",
   "execution_count": 5,
   "metadata": {},
   "outputs": [],
   "source": [
    "class HashGenerator(object):\n",
    "    def __init__(self, symbols=None):\n",
    "        self.curr = 0\n",
    "        self.symbols = symbols\n",
    "\n",
    "        if self.symbols is None:\n",
    "            self.symbols = string.digits+string.ascii_lowercase\n",
    "            \n",
    "\n",
    "    def __call__(self):\n",
    "        retval = symbol_encode(self.curr, self.symbols)\n",
    "        self.curr += 1\n",
    "        return retval\n"
   ]
  },
  {
   "cell_type": "code",
   "execution_count": 6,
   "metadata": {},
   "outputs": [],
   "source": [
    "import math\n",
    "\n",
    "class ThresholdingHasher(object):\n",
    "    def __init__(self, r, m, ord=None):\n",
    "        self.r = r\n",
    "        self.m = m\n",
    "        self.hashes = defaultdict(HashGenerator())\n",
    "        self.ord = ord\n",
    "\n",
    "    @property\n",
    "    def h(self):\n",
    "        return math.sqrt(2*self.r*np.log(self.m))\n",
    "    \n",
    "    def encode(self, vector):\n",
    "        if self.ord:\n",
    "            vector = normalize(vector, self.ord)\n",
    "        u = self.transform(vector)\n",
    "        keys = np.flatnonzero(u > self.h)\n",
    "        return [self.hashes[k] for k in keys]\n"
   ]
  },
  {
   "cell_type": "code",
   "execution_count": 7,
   "metadata": {},
   "outputs": [],
   "source": [
    "class GaussianHasher(ThresholdingHasher):\n",
    "    def __init__(self, d, m, r, ord=None, random_state=np.random.RandomState(42)):\n",
    "        super(GaussianHasher, self).__init__(r, m, ord)\n",
    "        self.matrix = random_state.normal(size=(m, d))\n",
    "\n",
    "    def transform(self, vector):\n",
    "        return self.matrix.dot(vector)"
   ]
  },
  {
   "cell_type": "code",
   "execution_count": 18,
   "metadata": {},
   "outputs": [],
   "source": [
    "class FourierHasher(ThresholdingHasher):\n",
    "    ''' Approximate the random Gaussian mapping by a sparse operation followed\n",
    "        by a Fourier transform.\n",
    "        The vector is duplicated m/d times, and each element of the duplicated\n",
    "        vector is multiplied randomly by +1 or -1.  These duplicated vectors are\n",
    "        concatenated and then their DFT is returned.  This entire operation\n",
    "        approximates multiplication of the vector by a standard normal Gaussian \n",
    "        m x d matrix.\n",
    "        Note that a dct implementation must be provided to the constructor.  Two\n",
    "        options are:\n",
    "            * scipy.fft.dct\n",
    "            * pyfftw.interfaces.scipy_fftpack.dct\n",
    "        See: https://arxiv.org/abs/1507.05929\n",
    "    '''\n",
    "    def __init__(self, d, m, r, ord=None, dct=None, random_state=np.random.RandomState(42)):\n",
    "        from scipy.fftpack import dct\n",
    "        if m%d:\n",
    "            raise ValueError(\"m must be an integer multiple of d\")\n",
    "\n",
    "        @property\n",
    "        def h(self):\n",
    "            return math.sqrt(2*r*np.log(m))\n",
    "        \n",
    "        super(FourierHasher, self).__init__(r, m, ord)\n",
    "        self.signs = random_state.choice([-1.0, 1.0], size=(int(m/d), d))\n",
    "        self.sqrt_d = np.sqrt(d)\n",
    "\n",
    "        self.dct = dct\n",
    "        if not self.dct:\n",
    "            raise NotImplementedError(\"a dct implmentation must be provided\")\n",
    "\n",
    "    def transform(self, vector):\n",
    "        return self.dct(np.multiply(self.signs, vector).flatten(), type=2, norm='ortho')*self.sqrt_d"
   ]
  },
  {
   "cell_type": "code",
   "execution_count": 21,
   "metadata": {},
   "outputs": [
    {
     "data": {
      "text/plain": [
       "'\\nm = 10000\\nr = 0.4\\nd = 4\\nh = math.sqrt(2*r*np.log(m))\\n\\nx1 = FourierHasher(d,m,r)\\nv1 = [-2, 3, -2, 4] \\nv2 = [-10, 5, -4, 5] \\ntr1 = x1.encode(v1)\\ntr2 = x1.encode(v2)\\n\\nprint(tr1)\\n#print(\"\\n \\n\")\\nprint(len(tr2))\\n\\nprint(x1.hashes)\\nprint(\"\\n \\n\")\\nprint(x1.hashes)\\n#[print(\"\\n \\n\")]\\n#print(x2.hashes.keys())\\n\\n#ha = HashGenerator()\\n#print(ha())\\n\\n'"
      ]
     },
     "execution_count": 21,
     "metadata": {},
     "output_type": "execute_result"
    }
   ],
   "source": [
    "'''\n",
    "m = 10000\n",
    "r = 0.4\n",
    "d = 4\n",
    "h = math.sqrt(2*r*np.log(m))\n",
    "\n",
    "x1 = FourierHasher(d,m,r)\n",
    "v1 = [-2, 3, -2, 4] \n",
    "v2 = [-10, 5, -4, 5] \n",
    "tr1 = x1.encode(v1)\n",
    "tr2 = x1.encode(v2)\n",
    "\n",
    "print(tr1)\n",
    "#print(\"\\n \\n\")\n",
    "print(len(tr2))\n",
    "\n",
    "print(x1.hashes)\n",
    "print(\"\\n \\n\")\n",
    "print(x1.hashes)\n",
    "#[print(\"\\n \\n\")]\n",
    "#print(x2.hashes.keys())\n",
    "\n",
    "#ha = HashGenerator()\n",
    "#print(ha())\n",
    "\n",
    "'''"
   ]
  },
  {
   "cell_type": "code",
   "execution_count": null,
   "metadata": {},
   "outputs": [],
   "source": []
  }
 ],
 "metadata": {
  "kernelspec": {
   "display_name": "Python 3",
   "language": "python",
   "name": "python3"
  },
  "language_info": {
   "codemirror_mode": {
    "name": "ipython",
    "version": 3
   },
   "file_extension": ".py",
   "mimetype": "text/x-python",
   "name": "python",
   "nbconvert_exporter": "python",
   "pygments_lexer": "ipython3",
   "version": "3.6.5"
  },
  "toc": {
   "base_numbering": 1,
   "nav_menu": {},
   "number_sections": true,
   "sideBar": true,
   "skip_h1_title": false,
   "title_cell": "Table of Contents",
   "title_sidebar": "Contents",
   "toc_cell": false,
   "toc_position": {},
   "toc_section_display": true,
   "toc_window_display": false
  },
  "varInspector": {
   "cols": {
    "lenName": 16,
    "lenType": 16,
    "lenVar": 40
   },
   "kernels_config": {
    "python": {
     "delete_cmd_postfix": "",
     "delete_cmd_prefix": "del ",
     "library": "var_list.py",
     "varRefreshCmd": "print(var_dic_list())"
    },
    "r": {
     "delete_cmd_postfix": ") ",
     "delete_cmd_prefix": "rm(",
     "library": "var_list.r",
     "varRefreshCmd": "cat(var_dic_list()) "
    }
   },
   "types_to_exclude": [
    "module",
    "function",
    "builtin_function_or_method",
    "instance",
    "_Feature"
   ],
   "window_display": false
  }
 },
 "nbformat": 4,
 "nbformat_minor": 2
}
